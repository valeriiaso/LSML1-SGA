{
 "cells": [
  {
   "cell_type": "markdown",
   "metadata": {},
   "source": [
    "# User routes on the site\n",
    "## Description\n",
    "**Clickstream** is a sequence of user actions on a website. It allows you to understand how users interact with the site. In this task, you need to find the most frequent custom routes.\n",
    "\n",
    "## Input data\n",
    "Input data is а table with clickstream data in file `hdfs:/data/clickstream.csv`.\n",
    "\n",
    "### Table structure\n",
    "* `user_id (int)` - Unique user identifier.\n",
    "* `session_id (int)` - Unique identifier for the user session. The user's session lasts until the identifier changes.\n",
    "* `event_type (string)` - Event type from the list:\n",
    "    * **page** - visit to the page\n",
    "    * **event** - any action on the page\n",
    "    * <b>&lt;custom&gt;</b> - string with any other type\n",
    "* `event_type (string)` - Page on the site.\n",
    "* `timestamp (int)` - Unix-timestamp of action.\n",
    "\n",
    "### Browser errors\n",
    "Errors can sometimes occur in the user's browser - after such an error appears, we can no longer trust the data of this session and all the following lines after the error or at the same time with it are considered corrupted and **should not be counted** in statistics.\n",
    "\n",
    "When an error occurs on the page, a random string containing the word **error** will be written to the `event_type` field.\n",
    "\n",
    "### Sample of user session\n",
    "<pre>\n",
    "+-------+----------+------------+----------+----------+\n",
    "|user_id|session_id|  event_type|event_page| timestamp|\n",
    "+-------+----------+------------+----------+----------+\n",
    "|    562|       507|        page|      main|1620494781|\n",
    "|    562|       507|       event|      main|1620494788|\n",
    "|    562|       507|       event|      main|1620494798|\n",
    "|    562|       507|        page|    family|1620494820|\n",
    "|    562|       507|       event|    family|1620494828|\n",
    "|    562|       507|        page|      main|1620494848|\n",
    "|    562|       507|wNaxLlerrorU|      main|1620494865|\n",
    "|    562|       507|       event|      main|1620494873|\n",
    "|    562|       507|        page|      news|1620494875|\n",
    "|    562|       507|        page|   tariffs|1620494876|\n",
    "|    562|       507|       event|   tariffs|1620494884|\n",
    "|    562|       514|        page|      main|1620728918|\n",
    "|    562|       514|       event|      main|1620729174|\n",
    "|    562|       514|        page|   archive|1620729674|\n",
    "|    562|       514|        page|     bonus|1620729797|\n",
    "|    562|       514|        page|   tariffs|1620731090|\n",
    "|    562|       514|       event|   tariffs|1620731187|\n",
    "+-------+----------+------------+----------+----------+\n",
    "</pre>\n",
    "\n",
    "#### Correct user routes for a given user:\n",
    "* **Session 507**: main-family-main\n",
    "* **Session 514**: main-archive-bonus-tariffs\n",
    "\n",
    "Route elements are ordered by the time they appear in the clickstream, from earliest to latest.\n",
    "\n",
    "The route must be accounted for completely before the end of the session or an error in the session.\n",
    "\n",
    "## Task\n",
    "You need to use the Spark SQL, Spark RDD and Spark DF interfaces to create a solution file, the lines of which contain **the 30 most frequent user routes** on the site.\n",
    "\n",
    "Each line of the file should contain the `route` and `count` values **separated by tabs**, where:\n",
    "* `route` - route on the site, consisting of pages separated by \"-\".\n",
    "* `count` - the number of user sessions in which this route was.\n",
    "\n",
    "The lines must be **ordered in descending order** of the `count` field.\n",
    "\n",
    "## Criteria\n",
    "You can get maximum of 3.5 points (final grade) for this assignment, depedning on the number of interface you manage to leverage. The criteria are as follows:\n",
    "\n",
    "* 0.5 points – Spark SQL solution with 1 query\n",
    "* 0.5 points – Spark SQL solution with <=2 queries\n",
    "* 0.5 points – Spark RDD solution\n",
    "* 0.5 points – Spark DF solution\n",
    "* 0.5 points – your solution algorithm is relatively optimized, i.e.: no O^2 or O^3 complexities; appropriate object usage; no data leaks etc. This is evaluated by staff.\n",
    "* 1 point – 1 on 1 screening session. During this session staff member can ask you questions regarding your solution logic, framework usage, questionable parts of your code etc. If your code is clean enough, the staff member can just ask you to solve a theoretical problem connected to Spark.\n"
   ]
  },
  {
   "cell_type": "markdown",
   "metadata": {},
   "source": []
  },
  {
   "cell_type": "code",
   "execution_count": 1,
   "metadata": {
    "tags": []
   },
   "outputs": [
    {
     "name": "stderr",
     "output_type": "stream",
     "text": [
      "Setting default log level to \"WARN\".\n",
      "To adjust logging level use sc.setLogLevel(newLevel). For SparkR, use setLogLevel(newLevel).\n",
      "2024-10-26 12:26:31,474 WARN yarn.Client: Neither spark.yarn.jars nor spark.yarn.archive is set, falling back to uploading libraries under SPARK_HOME.\n"
     ]
    }
   ],
   "source": [
    "import findspark\n",
    "findspark.init()\n",
    "\n",
    "import pyspark\n",
    "sc = pyspark.SparkContext(appName='sga')\n",
    "\n",
    "from pyspark.sql import SparkSession, Row\n",
    "se = SparkSession(sc)"
   ]
  },
  {
   "cell_type": "code",
   "execution_count": 62,
   "metadata": {
    "tags": []
   },
   "outputs": [],
   "source": [
    "import numpy as np\n",
    "import pyspark.sql.functions as F\n",
    "from pyspark.sql.window import Window"
   ]
  },
  {
   "cell_type": "code",
   "execution_count": 89,
   "metadata": {},
   "outputs": [
    {
     "name": "stderr",
     "output_type": "stream",
     "text": [
      "                                                                                \r"
     ]
    }
   ],
   "source": [
    "clickstream = se.read.csv(\"hdfs:/data/clickstream.csv\", sep='\\t', header=True)\n",
    "clickstream.registerTempTable('clickstream')"
   ]
  },
  {
   "cell_type": "code",
   "execution_count": 90,
   "metadata": {
    "tags": []
   },
   "outputs": [
    {
     "name": "stdout",
     "output_type": "stream",
     "text": [
      "+-------+----------+------------+----------+----------+\n",
      "|user_id|session_id|  event_type|event_page| timestamp|\n",
      "+-------+----------+------------+----------+----------+\n",
      "|    562|       507|        page|      main|1695584127|\n",
      "|    562|       507|       event|      main|1695584134|\n",
      "|    562|       507|       event|      main|1695584144|\n",
      "|    562|       507|       event|      main|1695584147|\n",
      "|    562|       507|wNaxLlerrorU|      main|1695584154|\n",
      "|    562|       507|       event|      main|1695584154|\n",
      "|    562|       507|       event|      main|1695584154|\n",
      "|    562|       507|       event|      main|1695584160|\n",
      "|    562|       507|        page|    rabota|1695584166|\n",
      "|    562|       507|       event|    rabota|1695584174|\n",
      "|    562|       507|       event|    rabota|1695584181|\n",
      "|    562|       507|       event|    rabota|1695584189|\n",
      "|    562|       507|        page|      main|1695584194|\n",
      "|    562|       507|       event|      main|1695584204|\n",
      "|    562|       507|       event|      main|1695584211|\n",
      "|    562|       507|       event|      main|1695584211|\n",
      "|    562|       507|       event|      main|1695584219|\n",
      "|    562|       507|        page|     bonus|1695584221|\n",
      "|    562|       507|        page|    online|1695584222|\n",
      "|    562|       507|       event|    online|1695584230|\n",
      "+-------+----------+------------+----------+----------+\n",
      "only showing top 20 rows\n",
      "\n"
     ]
    }
   ],
   "source": [
    "clickstream.show()"
   ]
  },
  {
   "cell_type": "markdown",
   "metadata": {},
   "source": [
    "### Solution with Spark SQL"
   ]
  },
  {
   "cell_type": "code",
   "execution_count": 43,
   "metadata": {
    "tags": []
   },
   "outputs": [
    {
     "name": "stderr",
     "output_type": "stream",
     "text": [
      "[Stage 83:===========================================>              (6 + 2) / 8]\r"
     ]
    },
    {
     "name": "stdout",
     "output_type": "stream",
     "text": [
      "+-------+----------+-------+--------------------+\n",
      "|user_id|session_id|row_num|               route|\n",
      "+-------+----------+-------+--------------------+\n",
      "|      1|      1026|      1|              [main]|\n",
      "|     10|       762|     12|              [main]|\n",
      "|     10|       762|     11|    [main, internet]|\n",
      "|     10|       762|     10|[main, internet, ...|\n",
      "|     10|       762|      9|[main, internet, ...|\n",
      "|     10|       762|      8|[main, internet, ...|\n",
      "|     10|       762|      7|[main, internet, ...|\n",
      "|     10|       762|      6|[main, internet, ...|\n",
      "|     10|       762|      5|[main, internet, ...|\n",
      "|     10|       762|      4|[main, internet, ...|\n",
      "|     10|       762|      3|[main, internet, ...|\n",
      "|     10|       762|      2|[main, internet, ...|\n",
      "|     10|       762|      1|[main, internet, ...|\n",
      "|   1001|        11|      4|              [main]|\n",
      "|   1001|        11|      3|       [main, bonus]|\n",
      "|   1001|        11|      2|[main, bonus, int...|\n",
      "|   1001|        11|      1|[main, bonus, int...|\n",
      "|   1002|       285|      5|              [main]|\n",
      "|   1002|       285|      4|        [main, news]|\n",
      "|   1002|       285|      3|[main, news, inte...|\n",
      "+-------+----------+-------+--------------------+\n",
      "only showing top 20 rows\n",
      "\n"
     ]
    },
    {
     "name": "stderr",
     "output_type": "stream",
     "text": [
      "                                                                                \r"
     ]
    }
   ],
   "source": [
    "# filter data to get lists of routes without errors and get rid of repeated pages\n",
    "filter_data_query = \"\"\"\n",
    "        with clickstream_with_flag as(\n",
    "            select\n",
    "                    *,\n",
    "                    max(case when event_type like \"%error%\" then 1 else 0 end) over (partition by user_id, session_id order by timestamp) as error,\n",
    "                    lag(event_page) over (partition by user_id, session_id order by timestamp) as previous_page\n",
    "            from clickstream\n",
    "        )\n",
    "        select\n",
    "                user_id,\n",
    "                session_id,\n",
    "                row_number() over (partition by user_id, session_id ORDER BY timestamp desc) as row_num,\n",
    "                collect_list(event_page) over (partition by user_id, session_id ORDER BY timestamp) as route\n",
    "        from clickstream_with_flag\n",
    "        where error = 0\n",
    "                and (previous_page != event_page or previous_page is null)\n",
    "        \"\"\"\n",
    "filtered_table = se.sql(filter_data_query)\n",
    "filtered_table.registerTempTable('filtered_table')\n",
    "filtered_table.show()"
   ]
  },
  {
   "cell_type": "code",
   "execution_count": 44,
   "metadata": {
    "tags": []
   },
   "outputs": [
    {
     "name": "stderr",
     "output_type": "stream",
     "text": [
      "[Stage 88:====================================================>   (13 + 1) / 14]\r"
     ]
    },
    {
     "name": "stdout",
     "output_type": "stream",
     "text": [
      "+--------------------+-----+\n",
      "|        route_concat|count|\n",
      "+--------------------+-----+\n",
      "|                main| 8184|\n",
      "|        main-archive| 1113|\n",
      "|         main-rabota| 1047|\n",
      "|       main-internet|  897|\n",
      "|          main-bonus|  870|\n",
      "|           main-news|  769|\n",
      "|        main-tariffs|  677|\n",
      "|         main-online|  587|\n",
      "|          main-vklad|  518|\n",
      "| main-rabota-archive|  170|\n",
      "| main-archive-rabota|  167|\n",
      "|  main-bonus-archive|  143|\n",
      "|   main-rabota-bonus|  139|\n",
      "|    main-news-rabota|  135|\n",
      "|   main-bonus-rabota|  135|\n",
      "|main-archive-inte...|  132|\n",
      "|    main-rabota-news|  130|\n",
      "|main-internet-rabota|  129|\n",
      "|   main-archive-news|  126|\n",
      "|main-rabota-internet|  124|\n",
      "|main-internet-arc...|  123|\n",
      "|  main-archive-bonus|  117|\n",
      "| main-internet-bonus|  115|\n",
      "|main-tariffs-inte...|  114|\n",
      "|   main-news-archive|  113|\n",
      "|  main-news-internet|  109|\n",
      "|main-archive-tariffs|  104|\n",
      "|  main-internet-news|  103|\n",
      "|main-tariffs-archive|  103|\n",
      "|    main-rabota-main|   94|\n",
      "+--------------------+-----+\n",
      "only showing top 30 rows\n",
      "\n"
     ]
    },
    {
     "name": "stderr",
     "output_type": "stream",
     "text": [
      "                                                                                \r"
     ]
    }
   ],
   "source": [
    "# concatenate lists into routes of type page-page-page\n",
    "result_query = \"\"\"\n",
    "                    select route_concat,\n",
    "                            count(session_id) as count\n",
    "                    from (\n",
    "                            select user_id,\n",
    "                                    session_id,\n",
    "                                    concat_ws(\"-\", route) as route_concat\n",
    "                            from filtered_table\n",
    "                            where row_num = 1\n",
    "                    ) as tmp\n",
    "                    group by route_concat\n",
    "                    order by 2 desc\n",
    "                \"\"\"\n",
    "\n",
    "result_sql = se.sql(result_query)\n",
    "result_sql.show(30)"
   ]
  },
  {
   "cell_type": "code",
   "execution_count": 148,
   "metadata": {
    "tags": []
   },
   "outputs": [
    {
     "name": "stderr",
     "output_type": "stream",
     "text": [
      "                                                                                \r"
     ]
    }
   ],
   "source": [
    "temp = result_sql.limit(30).toPandas()\n",
    "with open('result_sql.csv', 'w') as f:\n",
    "    f.write(temp.to_csv(sep='\\t', index=False, header=['route', 'count']))"
   ]
  },
  {
   "cell_type": "code",
   "execution_count": 52,
   "metadata": {
    "tags": []
   },
   "outputs": [
    {
     "data": {
      "text/plain": [
       "['main', 8184]"
      ]
     },
     "execution_count": 52,
     "metadata": {},
     "output_type": "execute_result"
    }
   ],
   "source": [
    "result_grader.loc[0].to_list()"
   ]
  },
  {
   "cell_type": "code",
   "execution_count": 58,
   "metadata": {
    "tags": []
   },
   "outputs": [],
   "source": [
    "result = {}\n",
    "for i in range(0, 10):\n",
    "    line = result_grader.loc[i].to_list()\n",
    "    result[line[0]] = int(line[1])"
   ]
  },
  {
   "cell_type": "code",
   "execution_count": 56,
   "metadata": {
    "tags": []
   },
   "outputs": [
    {
     "data": {
      "text/plain": [
       "{'main': 8184,\n",
       " 'main-archive': 1113,\n",
       " 'main-rabota': 1047,\n",
       " 'main-internet': 897,\n",
       " 'main-bonus': 870,\n",
       " 'main-news': 769,\n",
       " 'main-tariffs': 677,\n",
       " 'main-online': 587,\n",
       " 'main-vklad': 518,\n",
       " 'main-rabota-archive': 170}"
      ]
     },
     "execution_count": 56,
     "metadata": {},
     "output_type": "execute_result"
    }
   ],
   "source": [
    "result"
   ]
  },
  {
   "cell_type": "markdown",
   "metadata": {},
   "source": [
    "### Solution with Spark DF"
   ]
  },
  {
   "cell_type": "code",
   "execution_count": 84,
   "metadata": {
    "tags": []
   },
   "outputs": [
    {
     "name": "stderr",
     "output_type": "stream",
     "text": [
      "[Stage 155:==========================================>              (6 + 2) / 8]\r"
     ]
    },
    {
     "name": "stdout",
     "output_type": "stream",
     "text": [
      "+-------+----------+--------------------+\n",
      "|user_id|session_id|               route|\n",
      "+-------+----------+--------------------+\n",
      "|      1|      1026|                main|\n",
      "|     10|       762|main-internet-arc...|\n",
      "|   1001|        11|main-bonus-intern...|\n",
      "|   1002|       285|main-news-interne...|\n",
      "|   1002|       291|        main-archive|\n",
      "|   1003|       563|main-internet-mai...|\n",
      "|   1003|       593|main-internet-onl...|\n",
      "|   1004|       871|main-archive-vkla...|\n",
      "|   1006|       575|main-bonus-archiv...|\n",
      "|   1007|        82|main-archive-digital|\n",
      "|   1008|       573|main-news-archive...|\n",
      "|   1009|       639|main-online-inter...|\n",
      "|   1009|       665|main-digital-onli...|\n",
      "|    101|       439|           main-news|\n",
      "|   1010|       141|main-internet-arc...|\n",
      "|   1011|       865|   main-rabota-vklad|\n",
      "|   1012|       993|main-online-rabot...|\n",
      "|   1014|       341|main-internet-tar...|\n",
      "|   1015|       230|                main|\n",
      "|   1018|        66|     main-bonus-news|\n",
      "+-------+----------+--------------------+\n",
      "only showing top 20 rows\n",
      "\n"
     ]
    },
    {
     "name": "stderr",
     "output_type": "stream",
     "text": [
      "                                                                                \r"
     ]
    }
   ],
   "source": [
    "window = Window.partitionBy('user_id', 'session_id')\n",
    "\n",
    "filtered_table = (\n",
    "    clickstream\n",
    "                  .withColumn('error', F.max(\n",
    "                                          F.when(clickstream.event_type.like('%error%'), 1).otherwise(0)\n",
    "                                              ).over(window.orderBy(clickstream.timestamp)))\n",
    "                 .withColumn('previous_page', F.lag(\n",
    "                                                     clickstream.event_page\n",
    "                                                 ).over(window.orderBy(clickstream.timestamp)))\n",
    "                .filter('error = 0 and (previous_page != event_page or previous_page is null)')\n",
    "                  .withColumn('row_num', F.row_number().over(window.orderBy(F.desc(clickstream.timestamp))))\n",
    "                  .withColumn('route_list', F.collect_list(clickstream.event_page)\n",
    "                                             .over(window.orderBy(clickstream.timestamp)))\n",
    "                .withColumn('route', F.concat_ws('-', 'route_list'))\n",
    "                .filter('row_num = 1')\n",
    "                .select(['user_id', 'session_id', 'route'])\n",
    ")\n",
    "filtered_table.show()"
   ]
  },
  {
   "cell_type": "code",
   "execution_count": 85,
   "metadata": {
    "tags": []
   },
   "outputs": [
    {
     "name": "stderr",
     "output_type": "stream",
     "text": [
      "[Stage 160:===================================================>   (13 + 1) / 14]\r"
     ]
    },
    {
     "name": "stdout",
     "output_type": "stream",
     "text": [
      "+--------------------+-----+\n",
      "|               route|count|\n",
      "+--------------------+-----+\n",
      "|                main| 8184|\n",
      "|        main-archive| 1113|\n",
      "|         main-rabota| 1047|\n",
      "|       main-internet|  897|\n",
      "|          main-bonus|  870|\n",
      "|           main-news|  769|\n",
      "|        main-tariffs|  677|\n",
      "|         main-online|  587|\n",
      "|          main-vklad|  518|\n",
      "| main-rabota-archive|  170|\n",
      "| main-archive-rabota|  167|\n",
      "|  main-bonus-archive|  143|\n",
      "|   main-rabota-bonus|  139|\n",
      "|    main-news-rabota|  135|\n",
      "|   main-bonus-rabota|  135|\n",
      "|main-archive-inte...|  132|\n",
      "|    main-rabota-news|  130|\n",
      "|main-internet-rabota|  129|\n",
      "|   main-archive-news|  126|\n",
      "|main-rabota-internet|  124|\n",
      "|main-internet-arc...|  123|\n",
      "|  main-archive-bonus|  117|\n",
      "| main-internet-bonus|  115|\n",
      "|main-tariffs-inte...|  114|\n",
      "|   main-news-archive|  113|\n",
      "|  main-news-internet|  109|\n",
      "|main-archive-tariffs|  104|\n",
      "|  main-internet-news|  103|\n",
      "|main-tariffs-archive|  103|\n",
      "|    main-rabota-main|   94|\n",
      "+--------------------+-----+\n",
      "only showing top 30 rows\n",
      "\n"
     ]
    },
    {
     "name": "stderr",
     "output_type": "stream",
     "text": [
      "                                                                                \r"
     ]
    }
   ],
   "source": [
    "result_df = (\n",
    "    filtered_table.groupBy('route')\n",
    "                    .agg(F.count('*').alias('count'))\n",
    "                    .orderBy(F.desc('count'))\n",
    "                    .select(['route', 'count'])\n",
    ")\n",
    "\n",
    "result_df.show(30)"
   ]
  },
  {
   "cell_type": "code",
   "execution_count": 147,
   "metadata": {
    "tags": []
   },
   "outputs": [
    {
     "name": "stderr",
     "output_type": "stream",
     "text": [
      "                                                                                \r"
     ]
    }
   ],
   "source": [
    "temp = result_df.limit(30).toPandas()\n",
    "with open('result_df.csv', 'w') as f:\n",
    "    f.write(temp.to_csv(sep='\\t', index=False))"
   ]
  },
  {
   "cell_type": "markdown",
   "metadata": {},
   "source": [
    "### Solution with Spark RDD"
   ]
  },
  {
   "cell_type": "code",
   "execution_count": 100,
   "metadata": {
    "tags": []
   },
   "outputs": [
    {
     "data": {
      "text/plain": [
       "[['user_id', 'session_id', 'event_type', 'event_page', 'timestamp'],\n",
       " ['562', '507', 'page', 'main', '1695584127'],\n",
       " ['562', '507', 'event', 'main', '1695584134'],\n",
       " ['562', '507', 'event', 'main', '1695584144'],\n",
       " ['562', '507', 'event', 'main', '1695584147']]"
      ]
     },
     "execution_count": 100,
     "metadata": {},
     "output_type": "execute_result"
    }
   ],
   "source": [
    "clickstream_rdd = sc.textFile('hdfs:/data/clickstream.csv').map(lambda x: x.split('\\t'))\n",
    "clickstream_rdd.take(5)"
   ]
  },
  {
   "cell_type": "code",
   "execution_count": 123,
   "metadata": {
    "tags": []
   },
   "outputs": [
    {
     "name": "stderr",
     "output_type": "stream",
     "text": [
      "                                                                                \r"
     ]
    },
    {
     "data": {
      "text/plain": [
       "[(('562', '507'), ('page', 'main', 1695584127)),\n",
       " (('562', '507'), ('event', 'main', 1695584134)),\n",
       " (('562', '507'), ('event', 'main', 1695584144)),\n",
       " (('562', '507'), ('event', 'main', 1695584147)),\n",
       " (('562', '507'), ('wNaxLlerrorU', 'main', 1695584154)),\n",
       " (('562', '507'), ('event', 'main', 1695584154)),\n",
       " (('562', '507'), ('event', 'main', 1695584154)),\n",
       " (('562', '507'), ('event', 'main', 1695584160)),\n",
       " (('562', '507'), ('page', 'rabota', 1695584166)),\n",
       " (('562', '507'), ('event', 'rabota', 1695584174))]"
      ]
     },
     "execution_count": 123,
     "metadata": {},
     "output_type": "execute_result"
    }
   ],
   "source": [
    "rdd = (\n",
    "    clickstream_rdd\n",
    "    .filter(lambda x: x[0] != 'user_id')\n",
    "    .map(lambda x: ((x[0], x[1]), (x[2], x[3], int(x[4]))))\n",
    "    )\n",
    "rdd.take(10)"
   ]
  },
  {
   "cell_type": "code",
   "execution_count": 138,
   "metadata": {
    "tags": []
   },
   "outputs": [],
   "source": [
    "# function to find error (if any) and get events (before error if it occured or the full list if there was not any errors)\n",
    "def filter_data(data):\n",
    "    sorted_events = sorted(data, key=lambda x: x[2])\n",
    "    error_idx = -1\n",
    "    for idx, (event_type, page, timestamp) in enumerate(sorted_events):\n",
    "        if event_type.find('error') >= 0: \n",
    "            error_idx = idx\n",
    "            break\n",
    "    events = sorted_events[:error_idx] if error_idx != -1 else sorted_events\n",
    "    return events\n",
    "\n",
    "# create route of type page-page-page\n",
    "def concat_route(pages):\n",
    "    route = []\n",
    "    for page in pages:\n",
    "        if not route or page != route[-1]:\n",
    "            route.append(page)\n",
    "    return \"-\".join(route)"
   ]
  },
  {
   "cell_type": "code",
   "execution_count": 140,
   "metadata": {
    "tags": []
   },
   "outputs": [
    {
     "name": "stderr",
     "output_type": "stream",
     "text": [
      "                                                                                \r"
     ]
    },
    {
     "data": {
      "text/plain": [
       "[('main', 8185),\n",
       " ('main-archive', 1113),\n",
       " ('main-rabota', 1047),\n",
       " ('main-internet', 897),\n",
       " ('main-bonus', 870),\n",
       " ('main-news', 769),\n",
       " ('main-tariffs', 677),\n",
       " ('main-online', 587),\n",
       " ('main-vklad', 518),\n",
       " ('main-rabota-archive', 170),\n",
       " ('main-archive-rabota', 167),\n",
       " ('main-bonus-archive', 143),\n",
       " ('main-rabota-bonus', 139),\n",
       " ('main-bonus-rabota', 135),\n",
       " ('main-news-rabota', 135),\n",
       " ('main-archive-internet', 132),\n",
       " ('main-rabota-news', 130),\n",
       " ('main-internet-rabota', 129),\n",
       " ('main-archive-news', 126),\n",
       " ('main-rabota-internet', 124),\n",
       " ('main-internet-archive', 123),\n",
       " ('main-archive-bonus', 117),\n",
       " ('main-internet-bonus', 115),\n",
       " ('main-news-archive', 113),\n",
       " ('main-tariffs-internet', 113),\n",
       " ('main-news-internet', 109),\n",
       " ('main-archive-tariffs', 104),\n",
       " ('main-internet-news', 103),\n",
       " ('main-tariffs-archive', 103),\n",
       " ('main-rabota-main', 94)]"
      ]
     },
     "execution_count": 140,
     "metadata": {},
     "output_type": "execute_result"
    }
   ],
   "source": [
    "result_rdd = (\n",
    "    clickstream_rdd\n",
    "    .filter(lambda x: x[0] != 'user_id')\n",
    "    .map(lambda x: ((x[0], x[1]), (x[2], x[3], int(x[4]))))\n",
    "    .groupByKey()\n",
    "    .map(lambda x: (x[0], filter_data(list(x[1]))))\n",
    "    # .filter(lambda x: x[1] is not None)\n",
    "    .map(lambda x: concat_route([event_page for _, event_page, _ in x[1]]))\n",
    "    .map(lambda x: (x, 1))\n",
    "    .reduceByKey(lambda a, b: a + b)\n",
    "    .sortBy(lambda x: (-x[1], x[0]))\n",
    "    )\n",
    "result_rdd.take(30)"
   ]
  },
  {
   "cell_type": "code",
   "execution_count": 146,
   "metadata": {
    "tags": []
   },
   "outputs": [
    {
     "name": "stderr",
     "output_type": "stream",
     "text": [
      "                                                                                \r"
     ]
    }
   ],
   "source": [
    "(\n",
    "    result_rdd\n",
    "    .toDF()\n",
    "    .toPandas()[:30]\n",
    "    .to_csv('result_rdd.csv', sep='\\t', index=False, header=['route', 'count'])\n",
    ")"
   ]
  },
  {
   "cell_type": "code",
   "execution_count": null,
   "metadata": {},
   "outputs": [],
   "source": []
  }
 ],
 "metadata": {
  "coursera": {
   "schema_names": [
    "week-4-spark-homework"
   ]
  },
  "kernelspec": {
   "display_name": "Python 3 (ipykernel)",
   "language": "python",
   "name": "python3"
  },
  "language_info": {
   "codemirror_mode": {
    "name": "ipython",
    "version": 3
   },
   "file_extension": ".py",
   "mimetype": "text/x-python",
   "name": "python",
   "nbconvert_exporter": "python",
   "pygments_lexer": "ipython3",
   "version": "3.10.9"
  },
  "vscode": {
   "interpreter": {
    "hash": "31f2aee4e71d21fbe5cf8b01ff0e069b9275f58929596ceb00d14d90e3e16cd6"
   }
  }
 },
 "nbformat": 4,
 "nbformat_minor": 4
}
